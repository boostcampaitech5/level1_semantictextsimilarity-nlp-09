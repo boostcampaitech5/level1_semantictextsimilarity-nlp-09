{
 "cells": [
  {
   "cell_type": "code",
   "execution_count": 2,
   "metadata": {},
   "outputs": [
    {
     "name": "stderr",
     "output_type": "stream",
     "text": [
      "/opt/conda/lib/python3.8/site-packages/tqdm/auto.py:22: TqdmWarning: IProgress not found. Please update jupyter and ipywidgets. See https://ipywidgets.readthedocs.io/en/stable/user_install.html\n",
      "  from .autonotebook import tqdm as notebook_tqdm\n"
     ]
    }
   ],
   "source": [
    "#import json # used as a lightweight data interchange format.\n",
    "\n",
    "import pandas as pd # 판다스 import\n",
    "import torch\n",
    "from matplotlib import pyplot as plt # matplotlib에서 pypplot 다운로드\n",
    " \n",
    "from tqdm import tqdm # tqdm import"
   ]
  },
  {
   "cell_type": "code",
   "execution_count": 17,
   "metadata": {},
   "outputs": [],
   "source": [
    "train_path = '../data/train.csv'\n",
    "dev_path = '../data/dev.csv'"
   ]
  },
  {
   "cell_type": "code",
   "execution_count": 18,
   "metadata": {},
   "outputs": [
    {
     "name": "stdout",
     "output_type": "stream",
     "text": [
      "[4163, 1372, 1294, 2058, 987]\n"
     ]
    }
   ],
   "source": [
    "# train_data와 dev_data 전체를 concat하여 각 label 값의 범위에 대한 데이터 개수 구하는 함수\n",
    "def counts_data_range(train_path, dev_path):\n",
    "    train_df = pd.read_csv(train_path) # train data 읽어오기\n",
    "    dev_df = pd.read_csv(dev_path) # dev data 읽어오기\n",
    "    data_df = pd.concat([train_df, dev_df], axis=0) # train data와 dev data에 대해 axis 0 기준으로 concat\n",
    "\n",
    "    bins = pd.cut(data_df['label'], bins=[0, 1, 2, 3, 4, 5], include_lowest=True) # 모든 row를 읽어와 그 row의 'label' column에 대한 값이 해당되는 구간을 맵핑하여 할당\n",
    "    counts = bins.value_counts(sort=False) # 각 구간별로 개수를 세기\n",
    "    data_counts = [counts[i] for i in range(1, len(counts) + 1)] # 각 구간별 개수를 추출\n",
    "    return data_counts\n",
    "\n",
    "print(counts_data_range(train_path, dev_path))"
   ]
  },
  {
   "cell_type": "code",
   "execution_count": 31,
   "metadata": {},
   "outputs": [],
   "source": [
    "train_df = pd.read_csv(train_path) # train data 읽어오기\n",
    "dev_df = pd.read_csv(dev_path) # dev data 읽어오기\n",
    "data_df = pd.concat([train_df, dev_df], axis=0)"
   ]
  },
  {
   "cell_type": "code",
   "execution_count": 35,
   "metadata": {},
   "outputs": [
    {
     "name": "stdout",
     "output_type": "stream",
     "text": [
      "0.0    2140\n",
      "4.0     538\n",
      "0.4     498\n",
      "3.8     474\n",
      "4.2     451\n",
      "3.6     419\n",
      "0.6     392\n",
      "0.8     380\n",
      "1.0     364\n",
      "1.2     359\n",
      "0.2     352\n",
      "3.0     305\n",
      "3.4     301\n",
      "3.2     292\n",
      "2.8     289\n",
      "1.4     271\n",
      "1.8     268\n",
      "2.0     258\n",
      "2.6     257\n",
      "4.4     228\n",
      "2.2     213\n",
      "2.4     208\n",
      "1.6     190\n",
      "5.0     113\n",
      "4.6      96\n",
      "4.8      81\n",
      "0.5      37\n",
      "3.5      34\n",
      "1.5      26\n",
      "2.5      22\n",
      "4.5      18\n",
      "Name: label, dtype: int64\n"
     ]
    }
   ],
   "source": [
    "#label_counts = data_df['label'].value_counts().sort_index() # 각 label값에 해당하는 데이터 개수 계산 (label값 기준으로 오름차순 정렬)\n",
    "label_counts = data_df['label'].value_counts() # 각 label값에 해당하는 데이터 개수 계산 (데이터 개수를 기준으로 내림차순 정렬)\n",
    "print(label_counts)"
   ]
  },
  {
   "cell_type": "code",
   "execution_count": 36,
   "metadata": {},
   "outputs": [
    {
     "name": "stdout",
     "output_type": "stream",
     "text": [
      "0.0    0.216731\n",
      "4.0    0.054487\n",
      "0.4    0.050435\n",
      "3.8    0.048005\n",
      "4.2    0.045676\n",
      "3.6    0.042435\n",
      "0.6    0.039700\n",
      "0.8    0.038485\n",
      "1.0    0.036864\n",
      "1.2    0.036358\n",
      "0.2    0.035649\n",
      "3.0    0.030889\n",
      "3.4    0.030484\n",
      "3.2    0.029573\n",
      "2.8    0.029269\n",
      "1.4    0.027446\n",
      "1.8    0.027142\n",
      "2.0    0.026129\n",
      "2.6    0.026028\n",
      "4.4    0.023091\n",
      "2.2    0.021572\n",
      "2.4    0.021065\n",
      "1.6    0.019242\n",
      "5.0    0.011444\n",
      "4.6    0.009723\n",
      "4.8    0.008203\n",
      "0.5    0.003747\n",
      "3.5    0.003443\n",
      "1.5    0.002633\n",
      "2.5    0.002228\n",
      "4.5    0.001823\n",
      "Name: label, dtype: float64\n"
     ]
    }
   ],
   "source": [
    "label_ratios = label_counts / label_counts.sum() # 전체 데이터에 대한 각 label값에 해당하는 데이터 수 비율 계산\n",
    "print(label_ratios)"
   ]
  },
  {
   "attachments": {},
   "cell_type": "markdown",
   "metadata": {},
   "source": [
    "# Weighted MSE LOSS"
   ]
  },
  {
   "cell_type": "code",
   "execution_count": 13,
   "metadata": {},
   "outputs": [
    {
     "name": "stdout",
     "output_type": "stream",
     "text": [
      "weights : tensor([0.4744, 1.4394, 1.5261, 0.9596, 2.0008])\n",
      "bin_indices : tensor([3, 2, 4, 4])\n",
      "bin_weights : tensor([1.5261, 1.4394, 0.9596, 0.9596])\n",
      "Weighted MSE: 0.030203502625226974\n"
     ]
    }
   ],
   "source": [
    "# 작성한 함수 테스트를 위한 sample 데이터\n",
    "y_true = torch.tensor([2.4, 1.8, 3.1, 4.0, 2.9])\n",
    "y_pred = torch.tensor([2.5, 1.6, 2.9, 4.1, 2.8\\])\n",
    "#y_true = torch.tensor([2.4])\n",
    "#y_pred = torch.tensor([2.5])\n",
    "\n",
    "# 데이터 개수 {(-0.001, 1.0] : 4163, (1.0, 2.0] : 1372, (2.0, 3.0] : 1294, (3.0, 4.0] : 2058, (4.0, 5.0] : 987}\n",
    "data_counts = counts_data_range(train_path, dev_path)\n",
    "\n",
    "'''\n",
    "(-0.001, 1.0]    4163\n",
    "(3.0, 4.0]       2058\n",
    "(1.0, 2.0]       1372\n",
    "(2.0, 3.0]       1294\n",
    "(4.0, 5.0]        987\n",
    "'''\n",
    "\n",
    "# 각 구간별 가중치를 계산하는 함수\n",
    "def calculate_weights(bin_counts):\n",
    "    total_samples = sum(bin_counts)  # 전체 데이터 개수\n",
    "    bin_ratios = [count / total_samples for count in bin_counts]  # 각 구간별 비율\n",
    "    bin_weights = [1 / (ratio * len(bin_counts)) for ratio in bin_ratios]  # 각 구간별 가중치\n",
    "    return torch.tensor(bin_weights)\n",
    "\n",
    "def weighted_MSE(data_counts, y_true, y_pred):\n",
    "    \n",
    "    # weights 계산\n",
    "    weights = calculate_weights(data_counts) # 결과 예) tensor([0.4744, 1.4394, 1.5261, 0.9596, 2.0008])\n",
    "    print(f'weights : {weights}')\n",
    "\n",
    "    # 각 실제값(label)이 속한 구간의 인덱스를 계산\n",
    "    # bins = torch.tensor([0, 1, 2, 3, 4]) # (-0.001, 1.0], (1.0, 2.0], (2.0, 3.0], (3.0, 4.0], (4.0, 5.0]\n",
    "    # bin_indices = torch.bucketize(y_true, bins)\n",
    "    bin_indices = torch.bucketize(y_true, torch.tensor([0, 1, 2, 3, 4]))\n",
    "    print(f'bin_indices : {bin_indices}')\n",
    "    \n",
    "    # 각 label에 대한 weight 설정\n",
    "    bin_weights = weights[bin_indices - 1]\n",
    "    print(f'bin_weights : {bin_weights}')\n",
    "\n",
    "    # Weighted MSE 계산\n",
    "    mse = torch.mean(bin_weights * (y_true - y_pred) ** 2) \n",
    "    \n",
    "    return mse\n",
    "\n",
    "print(\"Weighted MSE:\", weighted_MSE(data_counts, y_true, y_pred).item())"
   ]
  },
  {
   "cell_type": "code",
   "execution_count": 19,
   "metadata": {},
   "outputs": [
    {
     "name": "stdout",
     "output_type": "stream",
     "text": [
      "tensor([0, 2, 4, 4, 5])\n"
     ]
    }
   ],
   "source": [
    "y_true = torch.tensor([-0.00001, 1.8, 3.1, 4.0, 7.4])\n",
    "bins = torch.tensor([0, 1, 2, 3, 4])\n",
    "bin_indices = torch.bucketize(y_true, bins) # (0, 1], (1, 2], (2, 3], (3, 4], (4, 5]\n",
    "print(bin_indices)"
   ]
  },
  {
   "attachments": {},
   "cell_type": "markdown",
   "metadata": {},
   "source": [
    "# pred_data에 대한 학습된 모델의 예측 결과 분석 (Test 결과 분석)"
   ]
  },
  {
   "attachments": {},
   "cell_type": "markdown",
   "metadata": {},
   "source": [
    "테스트에 사용한 dev 데이터 분석"
   ]
  },
  {
   "cell_type": "code",
   "execution_count": 20,
   "metadata": {},
   "outputs": [
    {
     "name": "stdout",
     "output_type": "stream",
     "text": [
      "(-0.001, 1.0]    110\n",
      "(1.0, 2.0]       110\n",
      "(2.0, 3.0]       110\n",
      "(3.0, 4.0]       110\n",
      "(4.0, 5.0]       110\n",
      "Name: target_range, dtype: int64\n"
     ]
    }
   ],
   "source": [
    "# csv 파일을 읽어들이기\n",
    "df = pd.read_csv('./data/dev.csv')\n",
    "\n",
    "# 'target' column의 범위를 나누어서 해당 범위에 속하는 row의 개수를 카운트\n",
    "bins = [-0.001, 1.0, 2.0, 3.0, 4.0, 5.0]\n",
    "labels = ['(-0.001, 1.0]', '(1.0, 2.0]', '(2.0, 3.0]', '(3.0, 4.0]', '(4.0, 5.0]']\n",
    "df['target_range'] = pd.cut(df['label'], bins=bins, labels=labels)\n",
    "count = df['target_range'].value_counts()\n",
    "\n",
    "print(count)"
   ]
  },
  {
   "attachments": {},
   "cell_type": "markdown",
   "metadata": {},
   "source": [
    "weighted MSE Loss를 사용하여 학습된 모델의 dev 데이터에 대한 예측 결과 분석"
   ]
  },
  {
   "cell_type": "code",
   "execution_count": 5,
   "metadata": {},
   "outputs": [
    {
     "name": "stdout",
     "output_type": "stream",
     "text": [
      "(-0.001, 1.0]    17\n",
      "(1.0, 2.0]       20\n",
      "(2.0, 3.0]       24\n",
      "(3.0, 4.0]       16\n",
      "(4.0, 5.0]       13\n",
      "Name: target_range, dtype: int64\n"
     ]
    }
   ],
   "source": [
    "# csv 파일을 읽어들이기\n",
    "df = pd.read_csv('./my_log/2023-04-21-15:01:22/wrong.csv')\n",
    "\n",
    "# 'pred'와 'target' column의 차이가 1.0 이상인 데이터를 추출\n",
    "diff = abs(df['pred'] - df['target'])\n",
    "df = df[diff >= 1.0]\n",
    "\n",
    "# 'target' column의 범위를 나누어서 해당 범위에 속하는 row의 개수를 카운트\n",
    "bins = [-0.001, 1.0, 2.0, 3.0, 4.0, 5.0]\n",
    "labels = ['(-0.001, 1.0]', '(1.0, 2.0]', '(2.0, 3.0]', '(3.0, 4.0]', '(4.0, 5.0]']\n",
    "df['target_range'] = pd.cut(df['target'], bins=bins, labels=labels)\n",
    "count = df['target_range'].value_counts(sort=False)\n",
    "\n",
    "print(count)"
   ]
  },
  {
   "attachments": {},
   "cell_type": "markdown",
   "metadata": {},
   "source": [
    "MSE Loss를 사용하여 학습된 모델의 dev 데이터에 대한 예측 결과 분석"
   ]
  },
  {
   "cell_type": "code",
   "execution_count": 6,
   "metadata": {},
   "outputs": [
    {
     "name": "stdout",
     "output_type": "stream",
     "text": [
      "(-0.001, 1.0]     3\n",
      "(1.0, 2.0]       16\n",
      "(2.0, 3.0]       25\n",
      "(3.0, 4.0]       10\n",
      "(4.0, 5.0]        8\n",
      "Name: target_range, dtype: int64\n"
     ]
    }
   ],
   "source": [
    "# csv 파일을 읽어들이기\n",
    "df = pd.read_csv('./my_log/2023-04-20-00:07:10/wrong.csv')\n",
    "\n",
    "# 'pred'와 'target' column의 차이가 1.0 이상인 데이터를 추출\n",
    "diff = abs(df['pred'] - df['target'])\n",
    "df = df[diff >= 1.0]\n",
    "\n",
    "# 'target' column의 범위를 나누어서 해당 범위에 속하는 row의 개수를 카운트\n",
    "bins = [-0.001, 1.0, 2.0, 3.0, 4.0, 5.0]\n",
    "labels = ['(-0.001, 1.0]', '(1.0, 2.0]', '(2.0, 3.0]', '(3.0, 4.0]', '(4.0, 5.0]']\n",
    "df['target_range'] = pd.cut(df['target'], bins=bins, labels=labels)\n",
    "count = df['target_range'].value_counts(sort=False)\n",
    "\n",
    "print(count)"
   ]
  }
 ],
 "metadata": {
  "kernelspec": {
   "display_name": "base",
   "language": "python",
   "name": "python3"
  },
  "language_info": {
   "codemirror_mode": {
    "name": "ipython",
    "version": 3
   },
   "file_extension": ".py",
   "mimetype": "text/x-python",
   "name": "python",
   "nbconvert_exporter": "python",
   "pygments_lexer": "ipython3",
   "version": "3.8.5"
  },
  "orig_nbformat": 4
 },
 "nbformat": 4,
 "nbformat_minor": 2
}
